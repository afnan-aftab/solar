{
 "metadata": {
  "language_info": {
   "codemirror_mode": {
    "name": "ipython",
    "version": 3
   },
   "file_extension": ".py",
   "mimetype": "text/x-python",
   "name": "python",
   "nbconvert_exporter": "python",
   "pygments_lexer": "ipython3",
   "version": "3.8.6-final"
  },
  "orig_nbformat": 2,
  "kernelspec": {
   "name": "python3",
   "display_name": "Python 3.8.6 64-bit",
   "metadata": {
    "interpreter": {
     "hash": "6b7f452acb74e3af7b8baa0b4b0bcd632a42580d7cfbfd0db36e2b0063a3e1dd"
    }
   }
  }
 },
 "nbformat": 4,
 "nbformat_minor": 2,
 "cells": [
  {
   "cell_type": "code",
   "execution_count": null,
   "metadata": {},
   "outputs": [],
   "source": [
    "import firebase_admin\n",
    "from firebase_admin import credentials\n",
    "from firebase_admin import db\n",
    "from firebase_admin import storage\n",
    "\n",
    "\n",
    "cred = credentials.Certificate(\"admin-sdk.json\")\n",
    "firebase_admin.initialize_app(cred,{\n",
    "    'databaseURL': 'https://iot-solar-database-default-rtdb.firebaseio.com/',\n",
    "    'storageBucket':'iot-solar-database.appspot.com'\n",
    "})\n",
    "\n",
    "bucket = storage.bucket()"
   ]
  },
  {
   "cell_type": "code",
   "execution_count": null,
   "metadata": {},
   "outputs": [],
   "source": [
    "import pandas\n",
    "df_g = pandas.read_csv('dataset-solar\\Plant_1_Generation_Data.csv')\n",
    "df_w = pandas.read_csv('dataset-solar\\Plant_1_Weather_Sensor_Data.csv')"
   ]
  },
  {
   "cell_type": "code",
   "execution_count": null,
   "metadata": {},
   "outputs": [],
   "source": [
    "df_g['DATE'],df_g['TIME']=df_g['DATE_TIME'].str.split(' ',1).str\n",
    "df_w['DATE'],df_w['TIME']=df_w['DATE_TIME'].str.split(' ',1).str\n",
    "del df_g['DATE_TIME']\n",
    "del df_w['DATE_TIME']\n",
    "df_g = df_g[ ['TIME'] + [ col for col in df_g.columns if col != 'TIME' ] ]\n",
    "df_w = df_w[ ['TIME'] + [ col for col in df_w.columns if col != 'TIME' ] ]\n",
    "df_g = df_g[ ['DATE'] + [ col for col in df_g.columns if col != 'DATE' ] ]\n",
    "df_w = df_w[ ['DATE'] + [ col for col in df_w.columns if col != 'DATE' ] ]"
   ]
  },
  {
   "cell_type": "code",
   "execution_count": null,
   "metadata": {},
   "outputs": [],
   "source": [
    "del df_g['DAILY_YIELD']\n",
    "del df_g['TOTAL_YIELD']\n",
    "df_g\n",
    "df_w"
   ]
  },
  {
   "cell_type": "code",
   "execution_count": null,
   "metadata": {},
   "outputs": [],
   "source": [
    "df_g = df_g.groupby(['DATE','TIME'], as_index=False).mean()\n",
    "df_g"
   ]
  },
  {
   "cell_type": "code",
   "execution_count": null,
   "metadata": {},
   "outputs": [],
   "source": [
    "import pandas as pd\n",
    "df_final = pd.merge(df_w, df_g_t, on=['DATE','TIME'])\n",
    "del pd\n",
    "df_final"
   ]
  },
  {
   "cell_type": "code",
   "execution_count": null,
   "metadata": {},
   "outputs": [],
   "source": [
    "json_final = df_final.to_dict('index')"
   ]
  },
  {
   "cell_type": "code",
   "execution_count": null,
   "metadata": {},
   "outputs": [],
   "source": [
    "ref = db.reference('Plant_Generation+Sensor_Data/')"
   ]
  },
  {
   "cell_type": "code",
   "execution_count": null,
   "metadata": {},
   "outputs": [],
   "source": [
    "ref.set(json_final)"
   ]
  },
  {
   "cell_type": "code",
   "execution_count": null,
   "metadata": {},
   "outputs": [],
   "source": [
    "df_final.to_csv(r'dataset-solar\\Plant_1_generation+sensor.csv', index = False)"
   ]
  },
  {
   "cell_type": "code",
   "execution_count": null,
   "metadata": {},
   "outputs": [],
   "source": []
  }
 ]
}