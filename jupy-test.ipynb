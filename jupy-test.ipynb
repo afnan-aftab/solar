{
 "metadata": {
  "language_info": {
   "codemirror_mode": {
    "name": "ipython",
    "version": 3
   },
   "file_extension": ".py",
   "mimetype": "text/x-python",
   "name": "python",
   "nbconvert_exporter": "python",
   "pygments_lexer": "ipython3",
   "version": "3.9.1-final"
  },
  "orig_nbformat": 2,
  "kernelspec": {
   "name": "python3",
   "display_name": "Python 3.9.1 64-bit",
   "metadata": {
    "interpreter": {
     "hash": "35105e3229f8c99c9832053ce39fc4621c9e307d811345d636a6e111c4c9e79e"
    }
   }
  }
 },
 "nbformat": 4,
 "nbformat_minor": 2,
 "cells": [
  {
   "cell_type": "code",
   "execution_count": null,
   "metadata": {},
   "outputs": [],
   "source": [
    "df = pandas.read_csv('dataset-solar/Plant_1_Generation_Data.csv')"
   ]
  },
  {
   "cell_type": "code",
   "execution_count": null,
   "metadata": {},
   "outputs": [],
   "source": [
    "print(df)"
   ]
  },
  {
   "cell_type": "code",
   "execution_count": null,
   "metadata": {},
   "outputs": [],
   "source": [
    "df['DATE'],df['TIME']=df['DATE_TIME'].str.split(' ',1).str"
   ]
  },
  {
   "cell_type": "code",
   "execution_count": null,
   "metadata": {},
   "outputs": [],
   "source": [
    "df"
   ]
  },
  {
   "cell_type": "code",
   "execution_count": null,
   "metadata": {},
   "outputs": [],
   "source": [
    "del df['DATE_TIME']\n",
    "df"
   ]
  },
  {
   "cell_type": "code",
   "execution_count": null,
   "metadata": {},
   "outputs": [],
   "source": [
    "df = df[ ['TIME'] + [ col for col in df.columns if col != 'TIME' ] ]"
   ]
  },
  {
   "cell_type": "code",
   "execution_count": null,
   "metadata": {},
   "outputs": [],
   "source": [
    "df = df[ ['DATE'] + [ col for col in df.columns if col != 'DATE' ] ]"
   ]
  },
  {
   "cell_type": "code",
   "execution_count": null,
   "metadata": {},
   "outputs": [],
   "source": [
    "df"
   ]
  },
  {
   "cell_type": "code",
   "execution_count": null,
   "metadata": {},
   "outputs": [],
   "source": [
    "del df['TOTAL_YIELD']"
   ]
  },
  {
   "cell_type": "code",
   "execution_count": null,
   "metadata": {},
   "outputs": [],
   "source": [
    "df"
   ]
  },
  {
   "cell_type": "code",
   "execution_count": null,
   "metadata": {},
   "outputs": [],
   "source": [
    "del df['DAILY_YIELD']\n",
    "df"
   ]
  },
  {
   "cell_type": "code",
   "execution_count": null,
   "metadata": {
    "tags": []
   },
   "outputs": [],
   "source": [
    "df.duplicated(['DATE', 'TIME'])"
   ]
  },
  {
   "cell_type": "code",
   "execution_count": null,
   "metadata": {},
   "outputs": [],
   "source": [
    "df.groupby(['DATE','TIME'], as_index=False).mean()"
   ]
  },
  {
   "cell_type": "code",
   "execution_count": null,
   "metadata": {},
   "outputs": [],
   "source": [
    "df = df.groupby(['DATE','TIME'], as_index=False).mean()"
   ]
  },
  {
   "cell_type": "code",
   "execution_count": null,
   "metadata": {},
   "outputs": [],
   "source": [
    "df"
   ]
  },
  {
   "cell_type": "code",
   "execution_count": null,
   "metadata": {},
   "outputs": [],
   "source": [
    "df_gen = df"
   ]
  },
  {
   "cell_type": "code",
   "execution_count": null,
   "metadata": {},
   "outputs": [],
   "source": [
    "df_wet = pandas.read_csv('dataset-solar\\Plant_1_Weather_Sensor_Data.csv')"
   ]
  },
  {
   "cell_type": "code",
   "execution_count": null,
   "metadata": {},
   "outputs": [],
   "source": [
    "df_wet"
   ]
  },
  {
   "cell_type": "code",
   "execution_count": null,
   "metadata": {},
   "outputs": [],
   "source": [
    "del df_wet['PLANT_ID']\n",
    "df_wet"
   ]
  },
  {
   "cell_type": "code",
   "execution_count": null,
   "metadata": {},
   "outputs": [],
   "source": [
    "del df_wet['SOURCE_KEY']\n",
    "df_wet"
   ]
  },
  {
   "cell_type": "code",
   "execution_count": null,
   "metadata": {},
   "outputs": [],
   "source": [
    "df_wet['DATE'],df_wet['TIME']=df_wet['DATE_TIME'].str.split(' ',1).str\n",
    "df_wet"
   ]
  },
  {
   "cell_type": "code",
   "execution_count": null,
   "metadata": {},
   "outputs": [],
   "source": [
    "df_wet = df_wet[ ['TIME'] + [ col for col in df_wet.columns if col != 'TIME' ] ]\n",
    "df_wet = df_wet[ ['DATE'] + [ col for col in df_wet.columns if col != 'DATE' ] ]\n",
    "df_wet"
   ]
  },
  {
   "cell_type": "code",
   "execution_count": null,
   "metadata": {},
   "outputs": [],
   "source": [
    "del df_wet['DATE_TIME']\n",
    "df_wet"
   ]
  },
  {
   "cell_type": "code",
   "execution_count": null,
   "metadata": {},
   "outputs": [],
   "source": [
    "json_gen = df_gen.to_dict('index')\n",
    "json_wet = df_wet.to_dict('index')"
   ]
  },
  {
   "cell_type": "code",
   "execution_count": null,
   "metadata": {
    "tags": [
     "outputPrepend"
    ]
   },
   "outputs": [],
   "source": [
    "print(json_gen)"
   ]
  },
  {
   "cell_type": "code",
   "execution_count": null,
   "metadata": {},
   "outputs": [],
   "source": [
    "ref_gen = db.reference('Plant_Generation_Data/')\n",
    "ref_wet = db.reference('Plant_Weather_Data/')"
   ]
  },
  {
   "cell_type": "code",
   "execution_count": null,
   "metadata": {},
   "outputs": [],
   "source": [
    "ref_gen.set(json_gen)\n",
    "ref_wet.set(json_wet)"
   ]
  },
  {
   "cell_type": "code",
   "execution_count": 60,
   "metadata": {},
   "outputs": [
    {
     "output_type": "execute_result",
     "data": {
      "text/plain": [
       "            DATE      TIME  AMBIENT_TEMPERATURE  MODULE_TEMPERATURE  \\\n",
       "0     2020-05-15  00:00:00            25.184316           22.857507   \n",
       "1     2020-05-15  00:15:00            25.084589           22.761668   \n",
       "2     2020-05-15  00:30:00            24.935753           22.592306   \n",
       "3     2020-05-15  00:45:00            24.846130           22.360852   \n",
       "4     2020-05-15  01:00:00            24.621525           22.165423   \n",
       "...          ...       ...                  ...                 ...   \n",
       "3177  2020-06-17  22:45:00            22.150570           21.480377   \n",
       "3178  2020-06-17  23:00:00            22.129816           21.389024   \n",
       "3179  2020-06-17  23:15:00            22.008275           20.709211   \n",
       "3180  2020-06-17  23:30:00            21.969495           20.734963   \n",
       "3181  2020-06-17  23:45:00            21.909288           20.427972   \n",
       "\n",
       "      IRRADIATION  \n",
       "0             0.0  \n",
       "1             0.0  \n",
       "2             0.0  \n",
       "3             0.0  \n",
       "4             0.0  \n",
       "...           ...  \n",
       "3177          0.0  \n",
       "3178          0.0  \n",
       "3179          0.0  \n",
       "3180          0.0  \n",
       "3181          0.0  \n",
       "\n",
       "[3182 rows x 5 columns]"
      ],
      "text/html": "<div>\n<style scoped>\n    .dataframe tbody tr th:only-of-type {\n        vertical-align: middle;\n    }\n\n    .dataframe tbody tr th {\n        vertical-align: top;\n    }\n\n    .dataframe thead th {\n        text-align: right;\n    }\n</style>\n<table border=\"1\" class=\"dataframe\">\n  <thead>\n    <tr style=\"text-align: right;\">\n      <th></th>\n      <th>DATE</th>\n      <th>TIME</th>\n      <th>AMBIENT_TEMPERATURE</th>\n      <th>MODULE_TEMPERATURE</th>\n      <th>IRRADIATION</th>\n    </tr>\n  </thead>\n  <tbody>\n    <tr>\n      <th>0</th>\n      <td>2020-05-15</td>\n      <td>00:00:00</td>\n      <td>25.184316</td>\n      <td>22.857507</td>\n      <td>0.0</td>\n    </tr>\n    <tr>\n      <th>1</th>\n      <td>2020-05-15</td>\n      <td>00:15:00</td>\n      <td>25.084589</td>\n      <td>22.761668</td>\n      <td>0.0</td>\n    </tr>\n    <tr>\n      <th>2</th>\n      <td>2020-05-15</td>\n      <td>00:30:00</td>\n      <td>24.935753</td>\n      <td>22.592306</td>\n      <td>0.0</td>\n    </tr>\n    <tr>\n      <th>3</th>\n      <td>2020-05-15</td>\n      <td>00:45:00</td>\n      <td>24.846130</td>\n      <td>22.360852</td>\n      <td>0.0</td>\n    </tr>\n    <tr>\n      <th>4</th>\n      <td>2020-05-15</td>\n      <td>01:00:00</td>\n      <td>24.621525</td>\n      <td>22.165423</td>\n      <td>0.0</td>\n    </tr>\n    <tr>\n      <th>...</th>\n      <td>...</td>\n      <td>...</td>\n      <td>...</td>\n      <td>...</td>\n      <td>...</td>\n    </tr>\n    <tr>\n      <th>3177</th>\n      <td>2020-06-17</td>\n      <td>22:45:00</td>\n      <td>22.150570</td>\n      <td>21.480377</td>\n      <td>0.0</td>\n    </tr>\n    <tr>\n      <th>3178</th>\n      <td>2020-06-17</td>\n      <td>23:00:00</td>\n      <td>22.129816</td>\n      <td>21.389024</td>\n      <td>0.0</td>\n    </tr>\n    <tr>\n      <th>3179</th>\n      <td>2020-06-17</td>\n      <td>23:15:00</td>\n      <td>22.008275</td>\n      <td>20.709211</td>\n      <td>0.0</td>\n    </tr>\n    <tr>\n      <th>3180</th>\n      <td>2020-06-17</td>\n      <td>23:30:00</td>\n      <td>21.969495</td>\n      <td>20.734963</td>\n      <td>0.0</td>\n    </tr>\n    <tr>\n      <th>3181</th>\n      <td>2020-06-17</td>\n      <td>23:45:00</td>\n      <td>21.909288</td>\n      <td>20.427972</td>\n      <td>0.0</td>\n    </tr>\n  </tbody>\n</table>\n<p>3182 rows × 5 columns</p>\n</div>"
     },
     "metadata": {},
     "execution_count": 60
    }
   ],
   "source": [
    "df_wet"
   ]
  },
  {
   "cell_type": "code",
   "execution_count": 61,
   "metadata": {},
   "outputs": [],
   "source": [
    "df_gen.to_csv(r'dataset-solar\\Plant_1_generation_edited.csv', index = False)\n",
    "df_wet.to_csv(r'dataset-solar\\Plant_1_weather_edited.csv', index = False)"
   ]
  },
  {
   "cell_type": "code",
   "execution_count": null,
   "metadata": {},
   "outputs": [],
   "source": []
  }
 ]
}