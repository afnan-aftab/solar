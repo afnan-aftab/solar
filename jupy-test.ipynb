{
 "metadata": {
  "language_info": {
   "codemirror_mode": {
    "name": "ipython",
    "version": 3
   },
   "file_extension": ".py",
   "mimetype": "text/x-python",
   "name": "python",
   "nbconvert_exporter": "python",
   "pygments_lexer": "ipython3",
   "version": "3.9.1-final"
  },
  "orig_nbformat": 2,
  "kernelspec": {
   "name": "python3",
   "display_name": "Python 3.9.1 64-bit",
   "metadata": {
    "interpreter": {
     "hash": "35105e3229f8c99c9832053ce39fc4621c9e307d811345d636a6e111c4c9e79e"
    }
   }
  }
 },
 "nbformat": 4,
 "nbformat_minor": 2,
 "cells": [
  {
   "cell_type": "code",
   "execution_count": null,
   "metadata": {},
   "outputs": [],
   "source": [
    "import firebase_admin\n",
    "from firebase_admin import credentials\n",
    "from firebase_admin import db\n",
    "from firebase_admin import storage\n",
    "import pandas\n",
    "\n",
    "\n",
    "cred = credentials.Certificate(\"admin-sdk.json\")\n",
    "firebase_admin.initialize_app(cred,{\n",
    "    'databaseURL': 'https://iot-solar-database-default-rtdb.firebaseio.com/',\n",
    "    'storageBucket':'iot-solar-database.appspot.com'\n",
    "})\n",
    "\n",
    "bucket = storage.bucket()"
   ]
  },
  {
   "cell_type": "code",
   "execution_count": 83,
   "metadata": {},
   "outputs": [],
   "source": [
    "df_g = pandas.read_csv('dataset-solar\\Plant_1_Generation_Data.csv')\n",
    "df_w = pandas.read_csv('dataset-solar\\Plant_1_Weather_Sensor_Data.csv')"
   ]
  },
  {
   "cell_type": "code",
   "execution_count": 84,
   "metadata": {},
   "outputs": [],
   "source": [
    "df_g['DATE'],df_g['TIME']=df_g['DATE_TIME'].str.split(' ',1).str\n",
    "df_w['DATE'],df_w['TIME']=df_w['DATE_TIME'].str.split(' ',1).str\n",
    "del df_g['DATE_TIME']\n",
    "del df_w['DATE_TIME']\n",
    "df_g = df_g[ ['TIME'] + [ col for col in df_g.columns if col != 'TIME' ] ]\n",
    "df_w = df_w[ ['TIME'] + [ col for col in df_w.columns if col != 'TIME' ] ]\n",
    "df_g = df_g[ ['DATE'] + [ col for col in df_g.columns if col != 'DATE' ] ]\n",
    "df_w = df_w[ ['DATE'] + [ col for col in df_w.columns if col != 'DATE' ] ]"
   ]
  },
  {
   "cell_type": "code",
   "execution_count": 87,
   "metadata": {},
   "outputs": [
    {
     "output_type": "execute_result",
     "data": {
      "text/plain": [
       "            DATE   TIME  AMBIENT_TEMPERATURE  MODULE_TEMPERATURE  IRRADIATION\n",
       "0     15/05/2020   0:00            25.184316           22.857507          0.0\n",
       "1     15/05/2020   0:15            25.084589           22.761668          0.0\n",
       "2     15/05/2020   0:30            24.935753           22.592306          0.0\n",
       "3     15/05/2020   0:45            24.846130           22.360852          0.0\n",
       "4     15/05/2020   1:00            24.621525           22.165423          0.0\n",
       "...          ...    ...                  ...                 ...          ...\n",
       "3177  17/06/2020  22:45            22.150570           21.480377          0.0\n",
       "3178  17/06/2020  23:00            22.129816           21.389024          0.0\n",
       "3179  17/06/2020  23:15            22.008275           20.709211          0.0\n",
       "3180  17/06/2020  23:30            21.969495           20.734963          0.0\n",
       "3181  17/06/2020  23:45            21.909288           20.427972          0.0\n",
       "\n",
       "[3182 rows x 5 columns]"
      ],
      "text/html": "<div>\n<style scoped>\n    .dataframe tbody tr th:only-of-type {\n        vertical-align: middle;\n    }\n\n    .dataframe tbody tr th {\n        vertical-align: top;\n    }\n\n    .dataframe thead th {\n        text-align: right;\n    }\n</style>\n<table border=\"1\" class=\"dataframe\">\n  <thead>\n    <tr style=\"text-align: right;\">\n      <th></th>\n      <th>DATE</th>\n      <th>TIME</th>\n      <th>AMBIENT_TEMPERATURE</th>\n      <th>MODULE_TEMPERATURE</th>\n      <th>IRRADIATION</th>\n    </tr>\n  </thead>\n  <tbody>\n    <tr>\n      <th>0</th>\n      <td>15/05/2020</td>\n      <td>0:00</td>\n      <td>25.184316</td>\n      <td>22.857507</td>\n      <td>0.0</td>\n    </tr>\n    <tr>\n      <th>1</th>\n      <td>15/05/2020</td>\n      <td>0:15</td>\n      <td>25.084589</td>\n      <td>22.761668</td>\n      <td>0.0</td>\n    </tr>\n    <tr>\n      <th>2</th>\n      <td>15/05/2020</td>\n      <td>0:30</td>\n      <td>24.935753</td>\n      <td>22.592306</td>\n      <td>0.0</td>\n    </tr>\n    <tr>\n      <th>3</th>\n      <td>15/05/2020</td>\n      <td>0:45</td>\n      <td>24.846130</td>\n      <td>22.360852</td>\n      <td>0.0</td>\n    </tr>\n    <tr>\n      <th>4</th>\n      <td>15/05/2020</td>\n      <td>1:00</td>\n      <td>24.621525</td>\n      <td>22.165423</td>\n      <td>0.0</td>\n    </tr>\n    <tr>\n      <th>...</th>\n      <td>...</td>\n      <td>...</td>\n      <td>...</td>\n      <td>...</td>\n      <td>...</td>\n    </tr>\n    <tr>\n      <th>3177</th>\n      <td>17/06/2020</td>\n      <td>22:45</td>\n      <td>22.150570</td>\n      <td>21.480377</td>\n      <td>0.0</td>\n    </tr>\n    <tr>\n      <th>3178</th>\n      <td>17/06/2020</td>\n      <td>23:00</td>\n      <td>22.129816</td>\n      <td>21.389024</td>\n      <td>0.0</td>\n    </tr>\n    <tr>\n      <th>3179</th>\n      <td>17/06/2020</td>\n      <td>23:15</td>\n      <td>22.008275</td>\n      <td>20.709211</td>\n      <td>0.0</td>\n    </tr>\n    <tr>\n      <th>3180</th>\n      <td>17/06/2020</td>\n      <td>23:30</td>\n      <td>21.969495</td>\n      <td>20.734963</td>\n      <td>0.0</td>\n    </tr>\n    <tr>\n      <th>3181</th>\n      <td>17/06/2020</td>\n      <td>23:45</td>\n      <td>21.909288</td>\n      <td>20.427972</td>\n      <td>0.0</td>\n    </tr>\n  </tbody>\n</table>\n<p>3182 rows × 5 columns</p>\n</div>"
     },
     "metadata": {},
     "execution_count": 87
    }
   ],
   "source": [
    "del df_g['DAILY_YIELD']\n",
    "del df_g['TOTAL_YIELD']\n",
    "df_g\n",
    "df_w"
   ]
  },
  {
   "cell_type": "code",
   "execution_count": 88,
   "metadata": {},
   "outputs": [
    {
     "output_type": "execute_result",
     "data": {
      "text/plain": [
       "            DATE   TIME     DC_POWER    AC_POWER\n",
       "0     01/06/2020   0:00     0.000000    0.000000\n",
       "1     01/06/2020   0:15     0.000000    0.000000\n",
       "2     01/06/2020   0:30     0.000000    0.000000\n",
       "3     01/06/2020   0:45     0.000000    0.000000\n",
       "4     01/06/2020  10:00  7754.196429  758.716883\n",
       "...          ...    ...          ...         ...\n",
       "3153  31/05/2020   8:45  6915.861201  677.093344\n",
       "3154  31/05/2020   9:00  7026.840097  688.065097\n",
       "3155  31/05/2020   9:15  5312.683442  520.857630\n",
       "3156  31/05/2020   9:30  8345.980519  816.289773\n",
       "3157  31/05/2020   9:45  6368.724026  623.789367\n",
       "\n",
       "[3158 rows x 4 columns]"
      ],
      "text/html": "<div>\n<style scoped>\n    .dataframe tbody tr th:only-of-type {\n        vertical-align: middle;\n    }\n\n    .dataframe tbody tr th {\n        vertical-align: top;\n    }\n\n    .dataframe thead th {\n        text-align: right;\n    }\n</style>\n<table border=\"1\" class=\"dataframe\">\n  <thead>\n    <tr style=\"text-align: right;\">\n      <th></th>\n      <th>DATE</th>\n      <th>TIME</th>\n      <th>DC_POWER</th>\n      <th>AC_POWER</th>\n    </tr>\n  </thead>\n  <tbody>\n    <tr>\n      <th>0</th>\n      <td>01/06/2020</td>\n      <td>0:00</td>\n      <td>0.000000</td>\n      <td>0.000000</td>\n    </tr>\n    <tr>\n      <th>1</th>\n      <td>01/06/2020</td>\n      <td>0:15</td>\n      <td>0.000000</td>\n      <td>0.000000</td>\n    </tr>\n    <tr>\n      <th>2</th>\n      <td>01/06/2020</td>\n      <td>0:30</td>\n      <td>0.000000</td>\n      <td>0.000000</td>\n    </tr>\n    <tr>\n      <th>3</th>\n      <td>01/06/2020</td>\n      <td>0:45</td>\n      <td>0.000000</td>\n      <td>0.000000</td>\n    </tr>\n    <tr>\n      <th>4</th>\n      <td>01/06/2020</td>\n      <td>10:00</td>\n      <td>7754.196429</td>\n      <td>758.716883</td>\n    </tr>\n    <tr>\n      <th>...</th>\n      <td>...</td>\n      <td>...</td>\n      <td>...</td>\n      <td>...</td>\n    </tr>\n    <tr>\n      <th>3153</th>\n      <td>31/05/2020</td>\n      <td>8:45</td>\n      <td>6915.861201</td>\n      <td>677.093344</td>\n    </tr>\n    <tr>\n      <th>3154</th>\n      <td>31/05/2020</td>\n      <td>9:00</td>\n      <td>7026.840097</td>\n      <td>688.065097</td>\n    </tr>\n    <tr>\n      <th>3155</th>\n      <td>31/05/2020</td>\n      <td>9:15</td>\n      <td>5312.683442</td>\n      <td>520.857630</td>\n    </tr>\n    <tr>\n      <th>3156</th>\n      <td>31/05/2020</td>\n      <td>9:30</td>\n      <td>8345.980519</td>\n      <td>816.289773</td>\n    </tr>\n    <tr>\n      <th>3157</th>\n      <td>31/05/2020</td>\n      <td>9:45</td>\n      <td>6368.724026</td>\n      <td>623.789367</td>\n    </tr>\n  </tbody>\n</table>\n<p>3158 rows × 4 columns</p>\n</div>"
     },
     "metadata": {},
     "execution_count": 88
    }
   ],
   "source": [
    "df_g = df_g.groupby(['DATE','TIME'], as_index=False).mean()\n",
    "df_g"
   ]
  },
  {
   "cell_type": "code",
   "execution_count": 89,
   "metadata": {},
   "outputs": [
    {
     "output_type": "execute_result",
     "data": {
      "text/plain": [
       "            DATE   TIME  AMBIENT_TEMPERATURE  MODULE_TEMPERATURE  IRRADIATION  \\\n",
       "0     15/05/2020   0:00            25.184316           22.857507          0.0   \n",
       "1     15/05/2020   0:15            25.084589           22.761668          0.0   \n",
       "2     15/05/2020   0:30            24.935753           22.592306          0.0   \n",
       "3     15/05/2020   0:45            24.846130           22.360852          0.0   \n",
       "4     15/05/2020   1:00            24.621525           22.165423          0.0   \n",
       "...          ...    ...                  ...                 ...          ...   \n",
       "3152  17/06/2020  22:45            22.150570           21.480377          0.0   \n",
       "3153  17/06/2020  23:00            22.129816           21.389024          0.0   \n",
       "3154  17/06/2020  23:15            22.008275           20.709211          0.0   \n",
       "3155  17/06/2020  23:30            21.969495           20.734963          0.0   \n",
       "3156  17/06/2020  23:45            21.909288           20.427972          0.0   \n",
       "\n",
       "      DC_POWER  AC_POWER  \n",
       "0          0.0       0.0  \n",
       "1          0.0       0.0  \n",
       "2          0.0       0.0  \n",
       "3          0.0       0.0  \n",
       "4          0.0       0.0  \n",
       "...        ...       ...  \n",
       "3152       0.0       0.0  \n",
       "3153       0.0       0.0  \n",
       "3154       0.0       0.0  \n",
       "3155       0.0       0.0  \n",
       "3156       0.0       0.0  \n",
       "\n",
       "[3157 rows x 7 columns]"
      ],
      "text/html": "<div>\n<style scoped>\n    .dataframe tbody tr th:only-of-type {\n        vertical-align: middle;\n    }\n\n    .dataframe tbody tr th {\n        vertical-align: top;\n    }\n\n    .dataframe thead th {\n        text-align: right;\n    }\n</style>\n<table border=\"1\" class=\"dataframe\">\n  <thead>\n    <tr style=\"text-align: right;\">\n      <th></th>\n      <th>DATE</th>\n      <th>TIME</th>\n      <th>AMBIENT_TEMPERATURE</th>\n      <th>MODULE_TEMPERATURE</th>\n      <th>IRRADIATION</th>\n      <th>DC_POWER</th>\n      <th>AC_POWER</th>\n    </tr>\n  </thead>\n  <tbody>\n    <tr>\n      <th>0</th>\n      <td>15/05/2020</td>\n      <td>0:00</td>\n      <td>25.184316</td>\n      <td>22.857507</td>\n      <td>0.0</td>\n      <td>0.0</td>\n      <td>0.0</td>\n    </tr>\n    <tr>\n      <th>1</th>\n      <td>15/05/2020</td>\n      <td>0:15</td>\n      <td>25.084589</td>\n      <td>22.761668</td>\n      <td>0.0</td>\n      <td>0.0</td>\n      <td>0.0</td>\n    </tr>\n    <tr>\n      <th>2</th>\n      <td>15/05/2020</td>\n      <td>0:30</td>\n      <td>24.935753</td>\n      <td>22.592306</td>\n      <td>0.0</td>\n      <td>0.0</td>\n      <td>0.0</td>\n    </tr>\n    <tr>\n      <th>3</th>\n      <td>15/05/2020</td>\n      <td>0:45</td>\n      <td>24.846130</td>\n      <td>22.360852</td>\n      <td>0.0</td>\n      <td>0.0</td>\n      <td>0.0</td>\n    </tr>\n    <tr>\n      <th>4</th>\n      <td>15/05/2020</td>\n      <td>1:00</td>\n      <td>24.621525</td>\n      <td>22.165423</td>\n      <td>0.0</td>\n      <td>0.0</td>\n      <td>0.0</td>\n    </tr>\n    <tr>\n      <th>...</th>\n      <td>...</td>\n      <td>...</td>\n      <td>...</td>\n      <td>...</td>\n      <td>...</td>\n      <td>...</td>\n      <td>...</td>\n    </tr>\n    <tr>\n      <th>3152</th>\n      <td>17/06/2020</td>\n      <td>22:45</td>\n      <td>22.150570</td>\n      <td>21.480377</td>\n      <td>0.0</td>\n      <td>0.0</td>\n      <td>0.0</td>\n    </tr>\n    <tr>\n      <th>3153</th>\n      <td>17/06/2020</td>\n      <td>23:00</td>\n      <td>22.129816</td>\n      <td>21.389024</td>\n      <td>0.0</td>\n      <td>0.0</td>\n      <td>0.0</td>\n    </tr>\n    <tr>\n      <th>3154</th>\n      <td>17/06/2020</td>\n      <td>23:15</td>\n      <td>22.008275</td>\n      <td>20.709211</td>\n      <td>0.0</td>\n      <td>0.0</td>\n      <td>0.0</td>\n    </tr>\n    <tr>\n      <th>3155</th>\n      <td>17/06/2020</td>\n      <td>23:30</td>\n      <td>21.969495</td>\n      <td>20.734963</td>\n      <td>0.0</td>\n      <td>0.0</td>\n      <td>0.0</td>\n    </tr>\n    <tr>\n      <th>3156</th>\n      <td>17/06/2020</td>\n      <td>23:45</td>\n      <td>21.909288</td>\n      <td>20.427972</td>\n      <td>0.0</td>\n      <td>0.0</td>\n      <td>0.0</td>\n    </tr>\n  </tbody>\n</table>\n<p>3157 rows × 7 columns</p>\n</div>"
     },
     "metadata": {},
     "execution_count": 89
    }
   ],
   "source": [
    "import pandas as pd\n",
    "df_final = pd.merge(df_w, df_g_t, on=['DATE','TIME'])\n",
    "del pd\n",
    "df_final"
   ]
  },
  {
   "cell_type": "code",
   "execution_count": 90,
   "metadata": {},
   "outputs": [],
   "source": [
    "json_final = df_final.to_dict('index')"
   ]
  },
  {
   "cell_type": "code",
   "execution_count": 91,
   "metadata": {},
   "outputs": [],
   "source": [
    "ref = db.reference('Plant_Generation+Sensor_Data/')"
   ]
  },
  {
   "cell_type": "code",
   "execution_count": 92,
   "metadata": {},
   "outputs": [],
   "source": [
    "ref.set(json_final)"
   ]
  },
  {
   "cell_type": "code",
   "execution_count": 93,
   "metadata": {},
   "outputs": [],
   "source": [
    "df_final.to_csv(r'dataset-solar\\Plant_1_generation+sensor.csv', index = False)"
   ]
  },
  {
   "cell_type": "code",
   "execution_count": null,
   "metadata": {},
   "outputs": [],
   "source": []
  }
 ]
}